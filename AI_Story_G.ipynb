{
  "nbformat": 4,
  "nbformat_minor": 0,
  "metadata": {
    "colab": {
      "provenance": []
    },
    "kernelspec": {
      "name": "python3",
      "display_name": "Python 3"
    },
    "language_info": {
      "name": "python"
    }
  },
  "cells": [
    {
      "cell_type": "code",
      "execution_count": 1,
      "metadata": {
        "colab": {
          "base_uri": "https://localhost:8080/"
        },
        "id": "xzgdHDQo9h__",
        "outputId": "016bba41-9ab7-41dc-d4a3-ec2b56c8850a"
      },
      "outputs": [
        {
          "output_type": "stream",
          "name": "stdout",
          "text": [
            "\u001b[2K   \u001b[90m━━━━━━━━━━━━━━━━━━━━━━━━━━━━━━━━━━━━━━━━\u001b[0m \u001b[32m363.4/363.4 MB\u001b[0m \u001b[31m4.3 MB/s\u001b[0m eta \u001b[36m0:00:00\u001b[0m\n",
            "\u001b[2K   \u001b[90m━━━━━━━━━━━━━━━━━━━━━━━━━━━━━━━━━━━━━━━━\u001b[0m \u001b[32m13.8/13.8 MB\u001b[0m \u001b[31m104.6 MB/s\u001b[0m eta \u001b[36m0:00:00\u001b[0m\n",
            "\u001b[2K   \u001b[90m━━━━━━━━━━━━━━━━━━━━━━━━━━━━━━━━━━━━━━━━\u001b[0m \u001b[32m24.6/24.6 MB\u001b[0m \u001b[31m88.3 MB/s\u001b[0m eta \u001b[36m0:00:00\u001b[0m\n",
            "\u001b[2K   \u001b[90m━━━━━━━━━━━━━━━━━━━━━━━━━━━━━━━━━━━━━━━━\u001b[0m \u001b[32m883.7/883.7 kB\u001b[0m \u001b[31m57.1 MB/s\u001b[0m eta \u001b[36m0:00:00\u001b[0m\n",
            "\u001b[2K   \u001b[90m━━━━━━━━━━━━━━━━━━━━━━━━━━━━━━━━━━━━━━━━\u001b[0m \u001b[32m664.8/664.8 MB\u001b[0m \u001b[31m2.9 MB/s\u001b[0m eta \u001b[36m0:00:00\u001b[0m\n",
            "\u001b[2K   \u001b[90m━━━━━━━━━━━━━━━━━━━━━━━━━━━━━━━━━━━━━━━━\u001b[0m \u001b[32m211.5/211.5 MB\u001b[0m \u001b[31m6.0 MB/s\u001b[0m eta \u001b[36m0:00:00\u001b[0m\n",
            "\u001b[2K   \u001b[90m━━━━━━━━━━━━━━━━━━━━━━━━━━━━━━━━━━━━━━━━\u001b[0m \u001b[32m56.3/56.3 MB\u001b[0m \u001b[31m13.1 MB/s\u001b[0m eta \u001b[36m0:00:00\u001b[0m\n",
            "\u001b[2K   \u001b[90m━━━━━━━━━━━━━━━━━━━━━━━━━━━━━━━━━━━━━━━━\u001b[0m \u001b[32m127.9/127.9 MB\u001b[0m \u001b[31m7.1 MB/s\u001b[0m eta \u001b[36m0:00:00\u001b[0m\n",
            "\u001b[2K   \u001b[90m━━━━━━━━━━━━━━━━━━━━━━━━━━━━━━━━━━━━━━━━\u001b[0m \u001b[32m207.5/207.5 MB\u001b[0m \u001b[31m6.1 MB/s\u001b[0m eta \u001b[36m0:00:00\u001b[0m\n",
            "\u001b[2K   \u001b[90m━━━━━━━━━━━━━━━━━━━━━━━━━━━━━━━━━━━━━━━━\u001b[0m \u001b[32m21.1/21.1 MB\u001b[0m \u001b[31m93.8 MB/s\u001b[0m eta \u001b[36m0:00:00\u001b[0m\n",
            "\u001b[?25h"
          ]
        }
      ],
      "source": [
        "!pip install -q transformers accelerate"
      ]
    },
    {
      "cell_type": "code",
      "source": [
        "from transformers import pipeline"
      ],
      "metadata": {
        "id": "N8BVzlqE-hoM"
      },
      "execution_count": 2,
      "outputs": []
    },
    {
      "cell_type": "code",
      "source": [
        "story_gen = pipeline(\"text-generation\", model=\"databricks/dolly-v2-3b\", device_map=\"auto\", trust_remote_code=True)"
      ],
      "metadata": {
        "colab": {
          "base_uri": "https://localhost:8080/"
        },
        "id": "5rgDsgia_CS6",
        "outputId": "20c8e986-2aa1-48d8-a752-2751dcefa8f9"
      },
      "execution_count": 8,
      "outputs": [
        {
          "output_type": "stream",
          "name": "stderr",
          "text": [
            "Device set to use cpu\n"
          ]
        }
      ]
    },
    {
      "cell_type": "code",
      "source": [
        "story_idea = input(\"Enter your story idea: \")\n",
        "prompt = f\"\"\"\n",
        "You are a creative story writer. Write a short, imaginative story (200–300 words) based on this idea:\n",
        "\"{story_idea}\"\n",
        "Include a creative setting and characters. Make it vivid and engaging.\n",
        "\"\"\""
      ],
      "metadata": {
        "colab": {
          "base_uri": "https://localhost:8080/"
        },
        "id": "b6SQrFoO_YCY",
        "outputId": "548edc2e-7809-40dd-8126-0a86ce3ac2db"
      },
      "execution_count": 9,
      "outputs": [
        {
          "name": "stdout",
          "output_type": "stream",
          "text": [
            "Enter your story idea: A man finds a scary clown staring down at him.\n"
          ]
        }
      ]
    },
    {
      "cell_type": "code",
      "source": [
        "output = story_gen(prompt, max_new_tokens=300, do_sample=True, temperature=0.9)[0][\"generated_text\"]\n",
        "\n",
        "print(\"\\n Your AI-Generated Story:\\n\")\n",
        "print(output)"
      ],
      "metadata": {
        "colab": {
          "base_uri": "https://localhost:8080/"
        },
        "id": "2aD3XoEcANxy",
        "outputId": "08dd69a9-e311-423d-93e1-f02883463404"
      },
      "execution_count": 10,
      "outputs": [
        {
          "output_type": "stream",
          "name": "stdout",
          "text": [
            "\n",
            " Your AI-Generated Story:\n",
            "\n",
            "The man awoke in the dark to the sound of clawing and scraping, and to the sight of a hideous clown with a distended stomach and bulging eyes. The clown stood in the doorway, towering over the man, a look of agony on its face.\n",
            "\"What are you?\" the man yelled, reaching for his knife at his bedside.\n",
            "The clown recoiled at his voice.\n",
            "\"I am no one you know, sir,\" it hissed. \"I am here to offer you a choice.\"\n",
            "\"Choice?\" the man said. \"What do you want from me?\"\n",
            "\"A favour, sir,\" the clown said, its voice barely above a whisper. \"A small favour, and I will be gone from your sight. But know this: you will die alone. Alone. I will not look upon your face again.\"\n",
            "The man swallowed, his throat dry. \"All right,\" he croaked. \"What is it you want?\"\n",
            "\"I want you to look into my eyes,\" the clown said. \"If you do not, then I will leave you to your despair.\"\n",
            "The man looked into the clown's eyes. For a moment, he saw something in them: terror, pain, a glimmer of something much worse. He looked away, his throat suddenly tight.\n",
            "\"No,\" he whispered.\n",
            "The clown's features twisted into a snarl, and it lunged at the man. He\n"
          ]
        }
      ]
    }
  ]
}